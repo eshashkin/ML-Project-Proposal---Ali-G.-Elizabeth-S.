{
 "cells": [
  {
   "cell_type": "code",
   "execution_count": 4,
   "id": "e1bad807-1139-4f6f-b3ad-86cf4c35f6ea",
   "metadata": {},
   "outputs": [],
   "source": [
    "# Data Preprocessing Script\n",
    "\n",
    "import pandas as pd"
   ]
  },
  {
   "cell_type": "code",
   "execution_count": 6,
   "id": "b0475363-d458-4e1d-92b4-618e259b5d19",
   "metadata": {},
   "outputs": [],
   "source": [
    "# Load dataset\n",
    "data = pd.read_csv('Global Missing Migrants Dataset.csv')\n",
    "\n",
    "# Drop columns with excessive null values or irrelevant data\n",
    "data = data.drop(columns=['Unnamed: 19', 'Migration route', 'Information Source'])"
   ]
  },
  {
   "cell_type": "code",
   "execution_count": 8,
   "id": "bff38567-8b81-4d22-a3d4-24e2862f91a2",
   "metadata": {},
   "outputs": [
    {
     "name": "stderr",
     "output_type": "stream",
     "text": [
      "/var/folders/xj/szvlmrgj5snf3c6n8ln3z4ym0000gn/T/ipykernel_42828/3850963940.py:3: FutureWarning: A value is trying to be set on a copy of a DataFrame or Series through chained assignment using an inplace method.\n",
      "The behavior will change in pandas 3.0. This inplace method will never work because the intermediate object on which we are setting values always behaves as a copy.\n",
      "\n",
      "For example, when doing 'df[col].method(value, inplace=True)', try using 'df.method({col: value}, inplace=True)' or df[col] = df[col].method(value) instead, to perform the operation inplace on the original object.\n",
      "\n",
      "\n",
      "  data['Number of Dead'].fillna(data['Number of Dead'].median(), inplace=True)\n",
      "/var/folders/xj/szvlmrgj5snf3c6n8ln3z4ym0000gn/T/ipykernel_42828/3850963940.py:6: FutureWarning: A value is trying to be set on a copy of a DataFrame or Series through chained assignment using an inplace method.\n",
      "The behavior will change in pandas 3.0. This inplace method will never work because the intermediate object on which we are setting values always behaves as a copy.\n",
      "\n",
      "For example, when doing 'df[col].method(value, inplace=True)', try using 'df.method({col: value}, inplace=True)' or df[col] = df[col].method(value) instead, to perform the operation inplace on the original object.\n",
      "\n",
      "\n",
      "  data['Region of Origin'].fillna('Unknown', inplace=True)\n",
      "/var/folders/xj/szvlmrgj5snf3c6n8ln3z4ym0000gn/T/ipykernel_42828/3850963940.py:7: FutureWarning: A value is trying to be set on a copy of a DataFrame or Series through chained assignment using an inplace method.\n",
      "The behavior will change in pandas 3.0. This inplace method will never work because the intermediate object on which we are setting values always behaves as a copy.\n",
      "\n",
      "For example, when doing 'df[col].method(value, inplace=True)', try using 'df.method({col: value}, inplace=True)' or df[col] = df[col].method(value) instead, to perform the operation inplace on the original object.\n",
      "\n",
      "\n",
      "  data['Country of Origin'].fillna('Unknown', inplace=True)\n"
     ]
    }
   ],
   "source": [
    "# Handle missing values\n",
    "# Number of Dead is important, fill nulls with median as deaths can't reasonably be negative\n",
    "data['Number of Dead'].fillna(data['Number of Dead'].median(), inplace=True)\n",
    "\n",
    "# Region of Origin and Country of Origin: Fill missing values with 'Unknown'\n",
    "data['Region of Origin'].fillna('Unknown', inplace=True)\n",
    "data['Country of Origin'].fillna('Unknown', inplace=True)"
   ]
  },
  {
   "cell_type": "code",
   "execution_count": 10,
   "id": "ae5e193a-c06b-4dd1-b5af-7f4530f09e78",
   "metadata": {},
   "outputs": [],
   "source": [
    "# Coordinates: Drop rows where coordinates are missing, essential for geospatial analysis\n",
    "data.dropna(subset=['Coordinates'], inplace=True)\n",
    "\n",
    "# Convert Coordinates into Latitude and Longitude\n",
    "data[['Latitude', 'Longitude']] = data['Coordinates'].str.split(',', expand=True).astype(float)\n",
    "data.drop(columns=['Coordinates'], inplace=True)"
   ]
  },
  {
   "cell_type": "code",
   "execution_count": 12,
   "id": "69591f9b-61cf-4574-98f1-5a1463457a75",
   "metadata": {},
   "outputs": [],
   "source": [
    "# Create a categorical feature for incident year\n",
    "# Useful to capture any temporal patterns\n",
    "data['Incident year'] = data['Incident year'].astype('category')\n",
    "\n",
    "# Simplify Cause of Death: Group less common causes into 'Other'\n",
    "cause_counts = data['Cause of Death'].value_counts()\n",
    "less_common_causes = cause_counts[cause_counts < 100].index\n",
    "data['Cause of Death'] = data['Cause of Death'].replace(less_common_causes, 'Other')"
   ]
  },
  {
   "cell_type": "code",
   "execution_count": 14,
   "id": "0efcd298-f939-4a0f-b1d4-eaeb43eb6530",
   "metadata": {},
   "outputs": [
    {
     "name": "stdout",
     "output_type": "stream",
     "text": [
      "<class 'pandas.core.frame.DataFrame'>\n",
      "Index: 12984 entries, 0 to 13019\n",
      "Data columns (total 18 columns):\n",
      " #   Column                               Non-Null Count  Dtype   \n",
      "---  ------                               --------------  -----   \n",
      " 0   Incident Type                        12984 non-null  object  \n",
      " 1   Incident year                        12984 non-null  category\n",
      " 2   Reported Month                       12984 non-null  object  \n",
      " 3   Region of Origin                     12984 non-null  object  \n",
      " 4   Region of Incident                   12984 non-null  object  \n",
      " 5   Country of Origin                    12984 non-null  object  \n",
      " 6   Number of Dead                       12984 non-null  float64 \n",
      " 7   Minimum Estimated Number of Missing  12984 non-null  int64   \n",
      " 8   Total Number of Dead and Missing     12984 non-null  int64   \n",
      " 9   Number of Survivors                  12984 non-null  int64   \n",
      " 10  Number of Females                    12984 non-null  int64   \n",
      " 11  Number of Males                      12984 non-null  int64   \n",
      " 12  Number of Children                   12984 non-null  int64   \n",
      " 13  Cause of Death                       12984 non-null  object  \n",
      " 14  Location of death                    12984 non-null  object  \n",
      " 15  UNSD Geographical Grouping           12983 non-null  object  \n",
      " 16  Latitude                             12984 non-null  float64 \n",
      " 17  Longitude                            12984 non-null  float64 \n",
      "dtypes: category(1), float64(3), int64(6), object(8)\n",
      "memory usage: 1.8+ MB\n",
      "None\n",
      "  Incident Type Incident year Reported Month               Region of Origin  \\\n",
      "0      Incident          2014        January                Central America   \n",
      "1      Incident          2014        January  Latin America / Caribbean (P)   \n",
      "2      Incident          2014        January  Latin America / Caribbean (P)   \n",
      "3      Incident          2014        January                Central America   \n",
      "4      Incident          2014        January                Northern Africa   \n",
      "\n",
      "  Region of Incident Country of Origin  Number of Dead  \\\n",
      "0      North America         Guatemala             1.0   \n",
      "1      North America           Unknown             1.0   \n",
      "2      North America           Unknown             1.0   \n",
      "3      North America            Mexico             1.0   \n",
      "4             Europe             Sudan             1.0   \n",
      "\n",
      "   Minimum Estimated Number of Missing  Total Number of Dead and Missing  \\\n",
      "0                                    0                                 1   \n",
      "1                                    0                                 1   \n",
      "2                                    0                                 1   \n",
      "3                                    0                                 1   \n",
      "4                                    0                                 1   \n",
      "\n",
      "   Number of Survivors  Number of Females  Number of Males  \\\n",
      "0                    0                  0                1   \n",
      "1                    0                  0                0   \n",
      "2                    0                  0                0   \n",
      "3                    0                  0                1   \n",
      "4                    2                  0                1   \n",
      "\n",
      "   Number of Children                                     Cause of Death  \\\n",
      "0                   0                                   Mixed or unknown   \n",
      "1                   0                                   Mixed or unknown   \n",
      "2                   0                                   Mixed or unknown   \n",
      "3                   0                                           Violence   \n",
      "4                   0  Harsh environmental conditions / lack of adequ...   \n",
      "\n",
      "                                   Location of death  \\\n",
      "0  Pima Country Office of the Medical Examiner ju...   \n",
      "1  Pima Country Office of the Medical Examiner ju...   \n",
      "2  Pima Country Office of the Medical Examiner ju...   \n",
      "3                         near Douglas, Arizona, USA   \n",
      "4                  Border between Russia and Estonia   \n",
      "\n",
      "  UNSD Geographical Grouping   Latitude   Longitude  \n",
      "0           Northern America  31.650259 -110.366453  \n",
      "1           Northern America  31.597130 -111.737560  \n",
      "2           Northern America  31.940260 -113.011250  \n",
      "3           Northern America  31.506777 -109.315632  \n",
      "4            Northern Europe  59.155100   28.000000  \n"
     ]
    }
   ],
   "source": [
    "# Verify cleaned data\n",
    "print(data.info())\n",
    "print(data.head())"
   ]
  },
  {
   "cell_type": "code",
   "execution_count": null,
   "id": "5470b873-839e-49ea-99b2-71acd94f1b6c",
   "metadata": {},
   "outputs": [],
   "source": []
  }
 ],
 "metadata": {
  "kernelspec": {
   "display_name": "Python 3 (ipykernel)",
   "language": "python",
   "name": "python3"
  },
  "language_info": {
   "codemirror_mode": {
    "name": "ipython",
    "version": 3
   },
   "file_extension": ".py",
   "mimetype": "text/x-python",
   "name": "python",
   "nbconvert_exporter": "python",
   "pygments_lexer": "ipython3",
   "version": "3.12.4"
  }
 },
 "nbformat": 4,
 "nbformat_minor": 5
}
